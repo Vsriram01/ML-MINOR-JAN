{
  "nbformat": 4,
  "nbformat_minor": 0,
  "metadata": {
    "colab": {
      "name": "ML-MINOR-JAN.ipynb",
      "provenance": [],
      "authorship_tag": "ABX9TyOlCTxAP7oSU6zbElqEqZpO",
      "include_colab_link": true
    },
    "kernelspec": {
      "name": "python3",
      "display_name": "Python 3"
    }
  },
  "cells": [
    {
      "cell_type": "markdown",
      "metadata": {
        "id": "view-in-github",
        "colab_type": "text"
      },
      "source": [
        "<a href=\"https://colab.research.google.com/github/Vsriram01/ML-MINOR-JAN/blob/main/ML_MINOR_JAN.ipynb\" target=\"_parent\"><img src=\"https://colab.research.google.com/assets/colab-badge.svg\" alt=\"Open In Colab\"/></a>"
      ]
    },
    {
      "cell_type": "code",
      "metadata": {
        "colab": {
          "base_uri": "https://localhost:8080/"
        },
        "id": "3Pqts3H5MZow",
        "outputId": "0d3c5f6f-ba84-4f0e-ca8f-b901d75f52e9"
      },
      "source": [
        "!pip install bing_image_downloader"
      ],
      "execution_count": 1,
      "outputs": [
        {
          "output_type": "stream",
          "text": [
            "Collecting bing_image_downloader\n",
            "  Downloading https://files.pythonhosted.org/packages/0d/bf/537a61030b84ae4cd5022d5c7b014fd9bc3ce7c02358919153a6658a61d3/bing_image_downloader-1.0.4-py3-none-any.whl\n",
            "Installing collected packages: bing-image-downloader\n",
            "Successfully installed bing-image-downloader-1.0.4\n"
          ],
          "name": "stdout"
        }
      ]
    },
    {
      "cell_type": "code",
      "metadata": {
        "id": "1ipFLoiRbWXt"
      },
      "source": [
        "!mkdir images"
      ],
      "execution_count": 2,
      "outputs": []
    },
    {
      "cell_type": "code",
      "metadata": {
        "colab": {
          "base_uri": "https://localhost:8080/"
        },
        "id": "Xm7fykNEbd0a",
        "outputId": "09afa948-8e4e-4537-b8d9-b43178b116c7"
      },
      "source": [
        "from bing_image_downloader import downloader\r\n",
        "downloader.download(\"supercars\", limit = 30, output_dir = 'images', adult_filter_off = True)"
      ],
      "execution_count": 3,
      "outputs": [
        {
          "output_type": "stream",
          "text": [
            "\n",
            "\n",
            "[!!]Indexing page: 1\n",
            "\n",
            "[%] Indexed 12 Images on Page 1.\n",
            "\n",
            "===============================================\n",
            "\n",
            "[%] Downloading Image #1 from https://www.maxim.com/.image/t_share/MTUyNzY1MDYyOTYzMDEyODkx/toyota-gr-super-sport-concept.jpg\n",
            "[%] File Downloaded !\n",
            "\n",
            "[%] Downloading Image #2 from https://www.topcarrating.com/w-motors/2016-w-motors-fenyr-supersport-6.jpg\n",
            "[%] File Downloaded !\n",
            "\n",
            "[%] Downloading Image #3 from https://pictures.topspeed.com/IMG/jpg/201203/lamborghini-ferrucci.jpg\n",
            "[%] File Downloaded !\n",
            "\n",
            "[%] Downloading Image #4 from http://digitalsynopsis.com/wp-content/uploads/2014/06/supercar-wallpapers-gumpert-apollo-3.jpg\n",
            "[%] File Downloaded !\n",
            "\n",
            "[%] Downloading Image #5 from https://pictures.topspeed.com/IMG/crop/201011/2012-ssc-ultimate-aero-ii_1600x0w.jpg\n",
            "[%] File Downloaded !\n",
            "\n",
            "[%] Downloading Image #6 from https://pictures.topspeed.com/IMG/jpg/201406/1967-toyota-2000-gt-7.jpg\n",
            "[%] File Downloaded !\n",
            "\n",
            "[%] Downloading Image #7 from https://wallpapershome.com/images/wallpapers/lamborghini-egoista-1080x1920-supercar-concept-lamborghini-sports-car-2215.jpg\n",
            "[%] File Downloaded !\n",
            "\n",
            "[%] Downloading Image #8 from https://pictures.topspeed.com/IMG/jpg/200705/1995-lotec-c1000-3.jpg\n",
            "[%] File Downloaded !\n",
            "\n",
            "[%] Downloading Image #9 from https://cdn.motor1.com/images/mgl/3PJqK/s3/cool-camper-van-shower.jpg\n",
            "[Error]Invalid image, not saving https://cdn.motor1.com/images/mgl/3PJqK/s3/cool-camper-van-shower.jpg\n",
            "\n",
            "[!] Issue getting: https://cdn.motor1.com/images/mgl/3PJqK/s3/cool-camper-van-shower.jpg\n",
            "[!] Error:: No active exception to reraise\n",
            "[%] Downloading Image #9 from https://pictures.topspeed.com/IMG/crop/201408/bugatti-veyron-ettor_1600x0w.jpg\n",
            "[%] File Downloaded !\n",
            "\n",
            "[%] Downloading Image #10 from http://s1.cdn.autoevolution.com/images/news/gallery/renee-olstead-is-gangsta-hot-next-to-a-chevy-deluxe-styleline-photyo-gallery_4.jpg\n",
            "[%] File Downloaded !\n",
            "\n",
            "[%] Downloading Image #11 from https://americancarsamericangirls.com/show/wp-content/uploads/2013/10/IMG_55301.jpg\n",
            "[%] File Downloaded !\n",
            "\n",
            "\n",
            "\n",
            "[!!]Indexing page: 2\n",
            "\n",
            "[%] Indexed 12 Images on Page 2.\n",
            "\n",
            "===============================================\n",
            "\n",
            "[%] Downloading Image #12 from https://www.maxim.com/.image/t_share/MTUyNzY1MDYyOTYzMDEyODkx/toyota-gr-super-sport-concept.jpg\n",
            "[%] File Downloaded !\n",
            "\n",
            "[%] Downloading Image #13 from https://www.topcarrating.com/w-motors/2016-w-motors-fenyr-supersport-6.jpg\n",
            "[%] File Downloaded !\n",
            "\n",
            "[%] Downloading Image #14 from https://pictures.topspeed.com/IMG/jpg/201203/lamborghini-ferrucci.jpg\n",
            "[%] File Downloaded !\n",
            "\n",
            "[%] Downloading Image #15 from http://digitalsynopsis.com/wp-content/uploads/2014/06/supercar-wallpapers-gumpert-apollo-3.jpg\n",
            "[%] File Downloaded !\n",
            "\n",
            "[%] Downloading Image #16 from https://pictures.topspeed.com/IMG/crop/201011/2012-ssc-ultimate-aero-ii_1600x0w.jpg\n",
            "[%] File Downloaded !\n",
            "\n",
            "[%] Downloading Image #17 from https://pictures.topspeed.com/IMG/jpg/201406/1967-toyota-2000-gt-7.jpg\n",
            "[%] File Downloaded !\n",
            "\n",
            "[%] Downloading Image #18 from https://wallpapershome.com/images/wallpapers/lamborghini-egoista-1080x1920-supercar-concept-lamborghini-sports-car-2215.jpg\n",
            "[%] File Downloaded !\n",
            "\n",
            "[%] Downloading Image #19 from https://pictures.topspeed.com/IMG/jpg/200705/1995-lotec-c1000-3.jpg\n",
            "[%] File Downloaded !\n",
            "\n",
            "[%] Downloading Image #20 from https://cdn.motor1.com/images/mgl/3PJqK/s3/cool-camper-van-shower.jpg\n",
            "[Error]Invalid image, not saving https://cdn.motor1.com/images/mgl/3PJqK/s3/cool-camper-van-shower.jpg\n",
            "\n",
            "[!] Issue getting: https://cdn.motor1.com/images/mgl/3PJqK/s3/cool-camper-van-shower.jpg\n",
            "[!] Error:: No active exception to reraise\n",
            "[%] Downloading Image #20 from https://pictures.topspeed.com/IMG/crop/201408/bugatti-veyron-ettor_1600x0w.jpg\n",
            "[%] File Downloaded !\n",
            "\n",
            "[%] Downloading Image #21 from http://s1.cdn.autoevolution.com/images/news/gallery/renee-olstead-is-gangsta-hot-next-to-a-chevy-deluxe-styleline-photyo-gallery_4.jpg\n",
            "[%] File Downloaded !\n",
            "\n",
            "[%] Downloading Image #22 from https://americancarsamericangirls.com/show/wp-content/uploads/2013/10/IMG_55301.jpg\n",
            "[%] File Downloaded !\n",
            "\n",
            "\n",
            "\n",
            "[!!]Indexing page: 3\n",
            "\n",
            "[%] Indexed 11 Images on Page 3.\n",
            "\n",
            "===============================================\n",
            "\n",
            "[%] Downloading Image #23 from https://www.topcarrating.com/w-motors/2016-w-motors-fenyr-supersport-6.jpg\n",
            "[%] File Downloaded !\n",
            "\n",
            "[%] Downloading Image #24 from https://pictures.topspeed.com/IMG/jpg/201203/lamborghini-ferrucci.jpg\n",
            "[%] File Downloaded !\n",
            "\n",
            "[%] Downloading Image #25 from http://digitalsynopsis.com/wp-content/uploads/2014/06/supercar-wallpapers-gumpert-apollo-3.jpg\n",
            "[%] File Downloaded !\n",
            "\n",
            "[%] Downloading Image #26 from https://pictures.topspeed.com/IMG/crop/201011/2012-ssc-ultimate-aero-ii_1600x0w.jpg\n",
            "[%] File Downloaded !\n",
            "\n",
            "[%] Downloading Image #27 from https://pictures.topspeed.com/IMG/jpg/201406/1967-toyota-2000-gt-7.jpg\n",
            "[%] File Downloaded !\n",
            "\n",
            "[%] Downloading Image #28 from https://wallpapershome.com/images/wallpapers/lamborghini-egoista-1080x1920-supercar-concept-lamborghini-sports-car-2215.jpg\n",
            "[%] File Downloaded !\n",
            "\n",
            "[%] Downloading Image #29 from https://pictures.topspeed.com/IMG/jpg/200705/1995-lotec-c1000-3.jpg\n",
            "[%] File Downloaded !\n",
            "\n",
            "[%] Downloading Image #30 from https://cdn.motor1.com/images/mgl/3PJqK/s3/cool-camper-van-shower.jpg\n",
            "[Error]Invalid image, not saving https://cdn.motor1.com/images/mgl/3PJqK/s3/cool-camper-van-shower.jpg\n",
            "\n",
            "[!] Issue getting: https://cdn.motor1.com/images/mgl/3PJqK/s3/cool-camper-van-shower.jpg\n",
            "[!] Error:: No active exception to reraise\n",
            "[%] Downloading Image #30 from https://pictures.topspeed.com/IMG/crop/201408/bugatti-veyron-ettor_1600x0w.jpg\n",
            "[%] File Downloaded !\n",
            "\n",
            "\n",
            "\n",
            "[%] Done. Downloaded 30 images.\n",
            "\n",
            "===============================================\n",
            "\n"
          ],
          "name": "stdout"
        }
      ]
    },
    {
      "cell_type": "code",
      "metadata": {
        "colab": {
          "base_uri": "https://localhost:8080/"
        },
        "id": "Q5mtsq73gzcz",
        "outputId": "8a8ab36f-e8a7-47f1-e89e-94cd0472c3ed"
      },
      "source": [
        "downloader.download(\"jet skis\", limit = 30, output_dir = 'images', adult_filter_off = True)"
      ],
      "execution_count": 4,
      "outputs": [
        {
          "output_type": "stream",
          "text": [
            "\n",
            "\n",
            "[!!]Indexing page: 1\n",
            "\n",
            "[%] Indexed 12 Images on Page 1.\n",
            "\n",
            "===============================================\n",
            "\n",
            "[%] Downloading Image #1 from http://i1.ytimg.com/vi/QtjDCFHWpM8/maxresdefault.jpg\n",
            "[%] File Downloaded !\n",
            "\n",
            "[%] Downloading Image #2 from http://shadowtrailers.com/2301_11.jpg\n",
            "[%] File Downloaded !\n",
            "\n",
            "[%] Downloading Image #3 from https://assets.vogue.com/photos/58a2ac630970c6fb5f135b7d/master/pass/_PLE0081.jpg\n",
            "[%] File Downloaded !\n",
            "\n",
            "[%] Downloading Image #4 from https://www.oxhuntingranch.com/wp-content/uploads/2016/03/caves-1024x682.jpg\n",
            "[%] File Downloaded !\n",
            "\n",
            "[%] Downloading Image #5 from https://www.eyos-expeditions.com/wp-content/uploads/EYOS-Expeditions-Legend-Yacht-Charter-3-quin-bisset.jpg\n",
            "[%] File Downloaded !\n",
            "\n",
            "[%] Downloading Image #6 from https://files.tripstodiscover.com/files/2015/06/Lake-Tahoe-California.jpg\n",
            "[%] File Downloaded !\n",
            "\n",
            "[%] Downloading Image #7 from http://www.emnrd.state.nm.us/SPD/images/500x700_bigImage_EB_1.png\n",
            "[%] File Downloaded !\n",
            "\n",
            "[%] Downloading Image #8 from https://www.timhunkin.com/page_pictures/a123_ordinary-telescope-view.jpg\n",
            "[%] File Downloaded !\n",
            "\n",
            "[%] Downloading Image #9 from https://photos.inautia.com/articulos/2/6/7/4/motor-mwm-d-229-4-de-80-hp-38478100122356676756555166704565x.JPG\n",
            "[%] File Downloaded !\n",
            "\n",
            "[%] Downloading Image #10 from http://www.insull.com/medias/602-yacht-motor-yacht-dyna-master-bathroom-jpg-1600x1080.jpg\n",
            "[!] Issue getting: http://www.insull.com/medias/602-yacht-motor-yacht-dyna-master-bathroom-jpg-1600x1080.jpg\n",
            "[!] Error:: HTTP Error 404: Not Found\n",
            "[%] Downloading Image #10 from http://www.boostcruising.com/database/automodelphotos/files/USA_Grid_Girls_3963082.jpg\n",
            "[%] File Downloaded !\n",
            "\n",
            "[%] Downloading Image #11 from http://www.hiltonheadisland.org/wp-content/uploads/2014/04/the-church-of-the-cross-bluffton-south-carolina.jpg\n",
            "[%] File Downloaded !\n",
            "\n",
            "\n",
            "\n",
            "[!!]Indexing page: 2\n",
            "\n",
            "[%] Indexed 12 Images on Page 2.\n",
            "\n",
            "===============================================\n",
            "\n",
            "[%] Downloading Image #12 from http://i1.ytimg.com/vi/QtjDCFHWpM8/maxresdefault.jpg\n",
            "[%] File Downloaded !\n",
            "\n",
            "[%] Downloading Image #13 from http://shadowtrailers.com/2301_11.jpg\n",
            "[%] File Downloaded !\n",
            "\n",
            "[%] Downloading Image #14 from https://assets.vogue.com/photos/58a2ac630970c6fb5f135b7d/master/pass/_PLE0081.jpg\n",
            "[%] File Downloaded !\n",
            "\n",
            "[%] Downloading Image #15 from https://www.oxhuntingranch.com/wp-content/uploads/2016/03/caves-1024x682.jpg\n",
            "[%] File Downloaded !\n",
            "\n",
            "[%] Downloading Image #16 from https://www.eyos-expeditions.com/wp-content/uploads/EYOS-Expeditions-Legend-Yacht-Charter-3-quin-bisset.jpg\n",
            "[%] File Downloaded !\n",
            "\n",
            "[%] Downloading Image #17 from https://files.tripstodiscover.com/files/2015/06/Lake-Tahoe-California.jpg\n",
            "[%] File Downloaded !\n",
            "\n",
            "[%] Downloading Image #18 from http://www.emnrd.state.nm.us/SPD/images/500x700_bigImage_EB_1.png\n",
            "[%] File Downloaded !\n",
            "\n",
            "[%] Downloading Image #19 from https://www.timhunkin.com/page_pictures/a123_ordinary-telescope-view.jpg\n",
            "[%] File Downloaded !\n",
            "\n",
            "[%] Downloading Image #20 from https://photos.inautia.com/articulos/2/6/7/4/motor-mwm-d-229-4-de-80-hp-38478100122356676756555166704565x.JPG\n",
            "[%] File Downloaded !\n",
            "\n",
            "[%] Downloading Image #21 from http://www.insull.com/medias/602-yacht-motor-yacht-dyna-master-bathroom-jpg-1600x1080.jpg\n",
            "[!] Issue getting: http://www.insull.com/medias/602-yacht-motor-yacht-dyna-master-bathroom-jpg-1600x1080.jpg\n",
            "[!] Error:: HTTP Error 404: Not Found\n",
            "[%] Downloading Image #21 from http://www.boostcruising.com/database/automodelphotos/files/USA_Grid_Girls_3963082.jpg\n",
            "[%] File Downloaded !\n",
            "\n",
            "[%] Downloading Image #22 from http://www.hiltonheadisland.org/wp-content/uploads/2014/04/the-church-of-the-cross-bluffton-south-carolina.jpg\n",
            "[%] File Downloaded !\n",
            "\n",
            "\n",
            "\n",
            "[!!]Indexing page: 3\n",
            "\n",
            "[%] Indexed 11 Images on Page 3.\n",
            "\n",
            "===============================================\n",
            "\n",
            "[%] Downloading Image #23 from http://shadowtrailers.com/2301_11.jpg\n",
            "[%] File Downloaded !\n",
            "\n",
            "[%] Downloading Image #24 from https://assets.vogue.com/photos/58a2ac630970c6fb5f135b7d/master/pass/_PLE0081.jpg\n",
            "[%] File Downloaded !\n",
            "\n",
            "[%] Downloading Image #25 from https://www.oxhuntingranch.com/wp-content/uploads/2016/03/caves-1024x682.jpg\n",
            "[%] File Downloaded !\n",
            "\n",
            "[%] Downloading Image #26 from https://www.eyos-expeditions.com/wp-content/uploads/EYOS-Expeditions-Legend-Yacht-Charter-3-quin-bisset.jpg\n",
            "[%] File Downloaded !\n",
            "\n",
            "[%] Downloading Image #27 from https://files.tripstodiscover.com/files/2015/06/Lake-Tahoe-California.jpg\n",
            "[%] File Downloaded !\n",
            "\n",
            "[%] Downloading Image #28 from http://www.emnrd.state.nm.us/SPD/images/500x700_bigImage_EB_1.png\n",
            "[%] File Downloaded !\n",
            "\n",
            "[%] Downloading Image #29 from https://www.timhunkin.com/page_pictures/a123_ordinary-telescope-view.jpg\n",
            "[%] File Downloaded !\n",
            "\n",
            "[%] Downloading Image #30 from https://photos.inautia.com/articulos/2/6/7/4/motor-mwm-d-229-4-de-80-hp-38478100122356676756555166704565x.JPG\n",
            "[%] File Downloaded !\n",
            "\n",
            "\n",
            "\n",
            "[%] Done. Downloaded 30 images.\n",
            "\n",
            "===============================================\n",
            "\n"
          ],
          "name": "stdout"
        }
      ]
    },
    {
      "cell_type": "code",
      "metadata": {
        "colab": {
          "base_uri": "https://localhost:8080/"
        },
        "id": "i51DKLZFriT2",
        "outputId": "a6e1250e-0a75-4c25-cb21-f5306edaec9b"
      },
      "source": [
        "downloader.download(\"superbikes\", limit = 30, output_dir = 'images', adult_filter_off = True)"
      ],
      "execution_count": 5,
      "outputs": [
        {
          "output_type": "stream",
          "text": [
            "\n",
            "\n",
            "[!!]Indexing page: 1\n",
            "\n",
            "[%] Indexed 12 Images on Page 1.\n",
            "\n",
            "===============================================\n",
            "\n",
            "[%] Downloading Image #1 from https://i.ytimg.com/vi/dG750ISXCvE/hqdefault.jpg\n",
            "[%] File Downloaded !\n",
            "\n",
            "[%] Downloading Image #2 from https://fsb.zobj.net/crop.php?r=mf9vro0BdKKg7Wi2zwayCUKTbIh7omiuqN1YK3H7fujOybWURBhArb1X5Wwyoity6iYFvgyHJXjT0K_fIPSdNEejq2ocXuz1NFWawEX1P4ABJ0u1LJr8ELuJad1786AT_PjiuycQVXomabpJbgdKawfj9vWtdPue2vIDyYU4p7JndBBkm2nUTVjKlj0\n",
            "[%] File Downloaded !\n",
            "\n",
            "[%] Downloading Image #3 from https://pictures.topspeed.com/IMG/jpg/201710/2018-kawasaki-z650-12.jpg\n",
            "[%] File Downloaded !\n",
            "\n",
            "[%] Downloading Image #4 from https://www.motortrend.com/uploads/sites/5/2020/07/2021-McLaren-Speedtail-34.jpg\n",
            "[!] Issue getting: https://www.motortrend.com/uploads/sites/5/2020/07/2021-McLaren-Speedtail-34.jpg\n",
            "[!] Error:: The read operation timed out\n",
            "[%] Downloading Image #4 from https://i.eurosport.com/2017/04/26/2070341-43402034-1600-900.jpg\n",
            "[%] File Downloaded !\n",
            "\n",
            "[%] Downloading Image #5 from https://www.motortrend.com/uploads/sites/5/2019/10/2020-Ford-Mustang-GT500-Exterior-32.jpg\n",
            "[%] File Downloaded !\n",
            "\n",
            "[%] Downloading Image #6 from https://i.eurosport.com/2019/10/15/2696229-55746897-1600-900.jpg\n",
            "[%] File Downloaded !\n",
            "\n",
            "[%] Downloading Image #7 from https://i.eurosport.com/2018/08/17/2399774-49894257-1600-900.jpg\n",
            "[%] File Downloaded !\n",
            "\n",
            "[%] Downloading Image #8 from https://www.motortrend.com/uploads/sites/11/2020/02/2021-Aston-Martin-Vantage-Roadster-front-three-quarter.jpg\n",
            "[!] Issue getting: https://www.motortrend.com/uploads/sites/11/2020/02/2021-Aston-Martin-Vantage-Roadster-front-three-quarter.jpg\n",
            "[!] Error:: The read operation timed out\n",
            "[%] Downloading Image #8 from https://www.motortrend.com/uploads/sites/5/2020/03/2020-Land-Rover-Defender-110-interior-4-1.jpg\n",
            "[%] File Downloaded !\n",
            "\n",
            "[%] Downloading Image #9 from https://1.bp.blogspot.com/-CJSelFdVjaI/TsXW_sdF_OI/AAAAAAAABNg/U5e3j86U7Qs/s1600/Extreme+Poses+in+Yoga+06.jpg\n",
            "[%] File Downloaded !\n",
            "\n",
            "[%] Downloading Image #10 from https://www.motortrend.com/uploads/sites/5/2019/12/2021-Chevrolet-Tahoe-Z71-11.jpg\n",
            "[%] File Downloaded !\n",
            "\n",
            "\n",
            "\n",
            "[!!]Indexing page: 2\n",
            "\n",
            "[%] Indexed 12 Images on Page 2.\n",
            "\n",
            "===============================================\n",
            "\n",
            "[%] Downloading Image #11 from https://i.ytimg.com/vi/dG750ISXCvE/hqdefault.jpg\n",
            "[%] File Downloaded !\n",
            "\n",
            "[%] Downloading Image #12 from https://fsb.zobj.net/crop.php?r=mf9vro0BdKKg7Wi2zwayCUKTbIh7omiuqN1YK3H7fujOybWURBhArb1X5Wwyoity6iYFvgyHJXjT0K_fIPSdNEejq2ocXuz1NFWawEX1P4ABJ0u1LJr8ELuJad1786AT_PjiuycQVXomabpJbgdKawfj9vWtdPue2vIDyYU4p7JndBBkm2nUTVjKlj0\n",
            "[%] File Downloaded !\n",
            "\n",
            "[%] Downloading Image #13 from https://pictures.topspeed.com/IMG/jpg/201710/2018-kawasaki-z650-12.jpg\n",
            "[%] File Downloaded !\n",
            "\n",
            "[%] Downloading Image #14 from https://www.motortrend.com/uploads/sites/5/2020/07/2021-McLaren-Speedtail-34.jpg\n",
            "[!] Issue getting: https://www.motortrend.com/uploads/sites/5/2020/07/2021-McLaren-Speedtail-34.jpg\n",
            "[!] Error:: The read operation timed out\n",
            "[%] Downloading Image #14 from https://i.eurosport.com/2017/04/26/2070341-43402034-1600-900.jpg\n",
            "[%] File Downloaded !\n",
            "\n",
            "[%] Downloading Image #15 from https://www.motortrend.com/uploads/sites/5/2019/10/2020-Ford-Mustang-GT500-Exterior-32.jpg\n",
            "[%] File Downloaded !\n",
            "\n",
            "[%] Downloading Image #16 from https://i.eurosport.com/2019/10/15/2696229-55746897-1600-900.jpg\n",
            "[%] File Downloaded !\n",
            "\n",
            "[%] Downloading Image #17 from https://i.eurosport.com/2018/08/17/2399774-49894257-1600-900.jpg\n",
            "[%] File Downloaded !\n",
            "\n",
            "[%] Downloading Image #18 from https://www.motortrend.com/uploads/sites/11/2020/02/2021-Aston-Martin-Vantage-Roadster-front-three-quarter.jpg\n",
            "[%] File Downloaded !\n",
            "\n",
            "[%] Downloading Image #19 from https://www.motortrend.com/uploads/sites/5/2020/03/2020-Land-Rover-Defender-110-interior-4-1.jpg\n",
            "[!] Issue getting: https://www.motortrend.com/uploads/sites/5/2020/03/2020-Land-Rover-Defender-110-interior-4-1.jpg\n",
            "[!] Error:: The read operation timed out\n",
            "[%] Downloading Image #19 from https://1.bp.blogspot.com/-CJSelFdVjaI/TsXW_sdF_OI/AAAAAAAABNg/U5e3j86U7Qs/s1600/Extreme+Poses+in+Yoga+06.jpg\n",
            "[%] File Downloaded !\n",
            "\n",
            "[%] Downloading Image #20 from https://www.motortrend.com/uploads/sites/5/2019/12/2021-Chevrolet-Tahoe-Z71-11.jpg\n",
            "[%] File Downloaded !\n",
            "\n",
            "\n",
            "\n",
            "[!!]Indexing page: 3\n",
            "\n",
            "[%] Indexed 11 Images on Page 3.\n",
            "\n",
            "===============================================\n",
            "\n",
            "[%] Downloading Image #21 from https://fsb.zobj.net/crop.php?r=mf9vro0BdKKg7Wi2zwayCUKTbIh7omiuqN1YK3H7fujOybWURBhArb1X5Wwyoity6iYFvgyHJXjT0K_fIPSdNEejq2ocXuz1NFWawEX1P4ABJ0u1LJr8ELuJad1786AT_PjiuycQVXomabpJbgdKawfj9vWtdPue2vIDyYU4p7JndBBkm2nUTVjKlj0\n",
            "[%] File Downloaded !\n",
            "\n",
            "[%] Downloading Image #22 from https://pictures.topspeed.com/IMG/jpg/201710/2018-kawasaki-z650-12.jpg\n",
            "[%] File Downloaded !\n",
            "\n",
            "[%] Downloading Image #23 from https://www.motortrend.com/uploads/sites/5/2020/07/2021-McLaren-Speedtail-34.jpg\n",
            "[%] File Downloaded !\n",
            "\n",
            "[%] Downloading Image #24 from https://i.eurosport.com/2017/04/26/2070341-43402034-1600-900.jpg\n",
            "[%] File Downloaded !\n",
            "\n",
            "[%] Downloading Image #25 from https://www.motortrend.com/uploads/sites/5/2019/10/2020-Ford-Mustang-GT500-Exterior-32.jpg\n",
            "[!] Issue getting: https://www.motortrend.com/uploads/sites/5/2019/10/2020-Ford-Mustang-GT500-Exterior-32.jpg\n",
            "[!] Error:: The read operation timed out\n",
            "[%] Downloading Image #25 from https://i.eurosport.com/2019/10/15/2696229-55746897-1600-900.jpg\n",
            "[%] File Downloaded !\n",
            "\n",
            "[%] Downloading Image #26 from https://i.eurosport.com/2018/08/17/2399774-49894257-1600-900.jpg\n",
            "[%] File Downloaded !\n",
            "\n",
            "[%] Downloading Image #27 from https://www.motortrend.com/uploads/sites/11/2020/02/2021-Aston-Martin-Vantage-Roadster-front-three-quarter.jpg\n",
            "[%] File Downloaded !\n",
            "\n",
            "[%] Downloading Image #28 from https://www.motortrend.com/uploads/sites/5/2020/03/2020-Land-Rover-Defender-110-interior-4-1.jpg\n",
            "[!] Issue getting: https://www.motortrend.com/uploads/sites/5/2020/03/2020-Land-Rover-Defender-110-interior-4-1.jpg\n",
            "[!] Error:: The read operation timed out\n",
            "[%] Downloading Image #28 from https://1.bp.blogspot.com/-CJSelFdVjaI/TsXW_sdF_OI/AAAAAAAABNg/U5e3j86U7Qs/s1600/Extreme+Poses+in+Yoga+06.jpg\n",
            "[%] File Downloaded !\n",
            "\n",
            "[%] Downloading Image #29 from https://www.motortrend.com/uploads/sites/5/2019/12/2021-Chevrolet-Tahoe-Z71-11.jpg\n",
            "[%] File Downloaded !\n",
            "\n",
            "\n",
            "\n",
            "[!!]Indexing page: 4\n",
            "\n",
            "[%] Indexed 10 Images on Page 4.\n",
            "\n",
            "===============================================\n",
            "\n",
            "[%] Downloading Image #30 from https://pictures.topspeed.com/IMG/jpg/201710/2018-kawasaki-z650-12.jpg\n",
            "[%] File Downloaded !\n",
            "\n",
            "\n",
            "\n",
            "[%] Done. Downloaded 30 images.\n",
            "\n",
            "===============================================\n",
            "\n"
          ],
          "name": "stdout"
        }
      ]
    },
    {
      "cell_type": "code",
      "metadata": {
        "id": "OS2ppoaqr4V8"
      },
      "source": [
        "import os\r\n",
        "import matplotlib.pyplot as plt\r\n",
        "import numpy as np\r\n",
        "from skimage.io import imread\r\n",
        "from skimage.transform import resize\r\n",
        "\r\n",
        "target = []\r\n",
        "images = []\r\n",
        "flat_data = []\r\n",
        "\r\n",
        "DATADIR = '/content/images'\r\n",
        "CATEGORIES = ['supercars','superbikes','jet skis']\r\n",
        "\r\n",
        "for category in CATEGORIES:\r\n",
        "  class_num = CATEGORIES.index(category)\r\n",
        "  path = os.path.join(DATADIR,category) # Create path to use all the images\r\n",
        "  for img in os.listdir(path):\r\n",
        "    img_array = imread(os.path.join(path,img))\r\n",
        "    #print(img_array.shape)\r\n",
        "    #plt.imshow(img_array)\r\n",
        "    img_resized = resize(img_array,(150,150,3))\r\n",
        "    flat_data.append(img_resized.flatten())\r\n",
        "    images.append(img_resized)\r\n",
        "    target.append(class_num)\r\n",
        "\r\n",
        "flat_data = np.array(flat_data)\r\n",
        "target = np.array(target)\r\n",
        "images = np.array(images)"
      ],
      "execution_count": 8,
      "outputs": []
    },
    {
      "cell_type": "code",
      "metadata": {
        "colab": {
          "base_uri": "https://localhost:8080/"
        },
        "id": "DP8RAcgVDCRI",
        "outputId": "856ac00b-5f5d-4850-e1da-a46375ca5040"
      },
      "source": [
        "len(flat_data[0])"
      ],
      "execution_count": 12,
      "outputs": [
        {
          "output_type": "execute_result",
          "data": {
            "text/plain": [
              "67500"
            ]
          },
          "metadata": {
            "tags": []
          },
          "execution_count": 12
        }
      ]
    },
    {
      "cell_type": "code",
      "metadata": {
        "colab": {
          "base_uri": "https://localhost:8080/"
        },
        "id": "PMCGlENrG033",
        "outputId": "cb9661e8-df69-4f28-9687-3b68d43cc206"
      },
      "source": [
        "target"
      ],
      "execution_count": 13,
      "outputs": [
        {
          "output_type": "execute_result",
          "data": {
            "text/plain": [
              "array([0, 0, 0, 0, 0, 0, 0, 0, 0, 0, 0, 0, 0, 0, 0, 0, 0, 0, 0, 0, 0, 0,\n",
              "       0, 0, 0, 0, 0, 0, 0, 0, 1, 1, 1, 1, 1, 1, 1, 1, 1, 1, 1, 1, 1, 1,\n",
              "       1, 1, 1, 1, 1, 1, 1, 1, 1, 1, 1, 1, 1, 1, 1, 1, 2, 2, 2, 2, 2, 2,\n",
              "       2, 2, 2, 2, 2, 2, 2, 2, 2, 2, 2, 2, 2, 2, 2, 2, 2, 2, 2, 2, 2, 2,\n",
              "       2, 2])"
            ]
          },
          "metadata": {
            "tags": []
          },
          "execution_count": 13
        }
      ]
    },
    {
      "cell_type": "code",
      "metadata": {
        "colab": {
          "base_uri": "https://localhost:8080/",
          "height": 282
        },
        "id": "sKhRN8OaHI46",
        "outputId": "5dd86391-1199-4fd2-c3fe-7defacf116b4"
      },
      "source": [
        "unique,count = np.unique(target,return_counts = True)\r\n",
        "plt.bar(CATEGORIES,count)"
      ],
      "execution_count": 14,
      "outputs": [
        {
          "output_type": "execute_result",
          "data": {
            "text/plain": [
              "<BarContainer object of 3 artists>"
            ]
          },
          "metadata": {
            "tags": []
          },
          "execution_count": 14
        },
        {
          "output_type": "display_data",
          "data": {
            "image/png": "[encoded data removed]",
            "text/plain": [
              "<Figure size 432x288 with 1 Axes>"
            ]
          },
          "metadata": {
            "tags": [],
            "needs_background": "light"
          }
        }
      ]
    },
    {
      "cell_type": "code",
      "metadata": {
        "id": "FYc460ZBHktU"
      },
      "source": [
        "from sklearn.model_selection import train_test_split\r\n",
        "x_train,x_test,y_train,y_test = train_test_split(flat_data,target,test_size=0.3,random_state=109)"
      ],
      "execution_count": 15,
      "outputs": []
    },
    {
      "cell_type": "code",
      "metadata": {
        "colab": {
          "base_uri": "https://localhost:8080/"
        },
        "id": "wLXG50eEKW8t",
        "outputId": "8f9bd6d6-e5d5-44ca-9615-eb82c8f0affa"
      },
      "source": [
        "from sklearn.model_selection import GridSearchCV\r\n",
        "from sklearn import svm\r\n",
        "param_grid = [\r\n",
        "              {'C':[1,10,100,1000],'kernel':['linear']},\r\n",
        "              {'C':[1,10,100,1000],'gamma':[0.001,0.0001],'kernel':['rbf']},\r\n",
        "]\r\n",
        "\r\n",
        "svc = svm.SVC(probability = True)\r\n",
        "clf = GridSearchCV(svc,param_grid)\r\n",
        "clf.fit(x_train,y_train)"
      ],
      "execution_count": 16,
      "outputs": [
        {
          "output_type": "execute_result",
          "data": {
            "text/plain": [
              "GridSearchCV(cv=None, error_score=nan,\n",
              "             estimator=SVC(C=1.0, break_ties=False, cache_size=200,\n",
              "                           class_weight=None, coef0=0.0,\n",
              "                           decision_function_shape='ovr', degree=3,\n",
              "                           gamma='scale', kernel='rbf', max_iter=-1,\n",
              "                           probability=True, random_state=None, shrinking=True,\n",
              "                           tol=0.001, verbose=False),\n",
              "             iid='deprecated', n_jobs=None,\n",
              "             param_grid=[{'C': [1, 10, 100, 1000], 'kernel': ['linear']},\n",
              "                         {'C': [1, 10, 100, 1000], 'gamma': [0.001, 0.0001],\n",
              "                          'kernel': ['rbf']}],\n",
              "             pre_dispatch='2*n_jobs', refit=True, return_train_score=False,\n",
              "             scoring=None, verbose=0)"
            ]
          },
          "metadata": {
            "tags": []
          },
          "execution_count": 16
        }
      ]
    },
    {
      "cell_type": "code",
      "metadata": {
        "colab": {
          "base_uri": "https://localhost:8080/"
        },
        "id": "bpvpTAbcNS78",
        "outputId": "d49b6a8d-d39c-44aa-f6ce-12387bf43908"
      },
      "source": [
        "y_pred = clf.predict(x_test)\r\n",
        "y_pred"
      ],
      "execution_count": 21,
      "outputs": [
        {
          "output_type": "execute_result",
          "data": {
            "text/plain": [
              "array([1, 0, 1, 2, 2, 1, 0, 1, 1, 0, 1, 0, 1, 2, 2, 1, 2, 1, 0, 1, 2, 2,\n",
              "       2, 0, 0, 0, 1])"
            ]
          },
          "metadata": {
            "tags": []
          },
          "execution_count": 21
        }
      ]
    },
    {
      "cell_type": "code",
      "metadata": {
        "colab": {
          "base_uri": "https://localhost:8080/"
        },
        "id": "AjDfqsx_Pczo",
        "outputId": "428c49da-1feb-4f4f-f170-750c41617e49"
      },
      "source": [
        "y_test"
      ],
      "execution_count": 22,
      "outputs": [
        {
          "output_type": "execute_result",
          "data": {
            "text/plain": [
              "array([1, 0, 1, 2, 2, 1, 0, 1, 1, 0, 1, 0, 1, 2, 2, 1, 2, 1, 0, 1, 2, 2,\n",
              "       2, 0, 0, 0, 1])"
            ]
          },
          "metadata": {
            "tags": []
          },
          "execution_count": 22
        }
      ]
    },
    {
      "cell_type": "code",
      "metadata": {
        "id": "7abUWlW-PeMr"
      },
      "source": [
        "from sklearn.metrics import accuracy_score,confusion_matrix"
      ],
      "execution_count": 23,
      "outputs": []
    },
    {
      "cell_type": "code",
      "metadata": {
        "colab": {
          "base_uri": "https://localhost:8080/"
        },
        "id": "fpTKjVNEQFXr",
        "outputId": "859bfdf4-dc06-4205-c721-1c55f6dca7b7"
      },
      "source": [
        "accuracy_score(y_pred,y_test)"
      ],
      "execution_count": 24,
      "outputs": [
        {
          "output_type": "execute_result",
          "data": {
            "text/plain": [
              "1.0"
            ]
          },
          "metadata": {
            "tags": []
          },
          "execution_count": 24
        }
      ]
    },
    {
      "cell_type": "code",
      "metadata": {
        "colab": {
          "base_uri": "https://localhost:8080/"
        },
        "id": "dwUCA3whQJum",
        "outputId": "319825f0-3ef0-4c24-87a6-c3d656198a0c"
      },
      "source": [
        "confusion_matrix(y_pred,y_test)"
      ],
      "execution_count": 25,
      "outputs": [
        {
          "output_type": "execute_result",
          "data": {
            "text/plain": [
              "array([[ 8,  0,  0],\n",
              "       [ 0, 11,  0],\n",
              "       [ 0,  0,  8]])"
            ]
          },
          "metadata": {
            "tags": []
          },
          "execution_count": 25
        }
      ]
    },
    {
      "cell_type": "code",
      "metadata": {
        "id": "k-UUjqCdQvfP"
      },
      "source": [
        "import pickle\r\n",
        "pickle.dump(clf,open('img_model.p','wb'))"
      ],
      "execution_count": 26,
      "outputs": []
    },
    {
      "cell_type": "code",
      "metadata": {
        "id": "SggBClHzS3YR"
      },
      "source": [
        "model = pickle.load(open('img_model.p','rb'))"
      ],
      "execution_count": 27,
      "outputs": []
    },
    {
      "cell_type": "code",
      "metadata": {
        "colab": {
          "base_uri": "https://localhost:8080/",
          "height": 319
        },
        "id": "VMh1DyrlTUgY",
        "outputId": "fe5709b5-1397-4049-9c06-66090c694207"
      },
      "source": [
        "flat_data = []\r\n",
        "url = input('Enter your URL')\r\n",
        "img = imread(url)\r\n",
        "img_resized = resize(img,(150,150,3))\r\n",
        "flat_data.append(img_resized.flatten())\r\n",
        "flat_data = np.array(flat_data)\r\n",
        "print(img.shape)\r\n",
        "plt.imshow(img_resized)\r\n",
        "y_out = model.predict(flat_data)\r\n",
        "y_out = CATEGORIES[y_out[0]]\r\n",
        "print(f'PREDICTED OUTPUT: {y_out}')"
      ],
      "execution_count": 32,
      "outputs": [
        {
          "output_type": "stream",
          "text": [
            "Enter your URLhttps://motoridersuniverse.com/uploads/news/15/11/720/5157115914851ea1511.jpg\n",
            "(385, 720, 3)\n",
            "PREDICTED OUTPUT: jet skis\n"
          ],
          "name": "stdout"
        },
        {
          "output_type": "display_data",
          "data": {
            "image/png": "[encoded data removed]",
            "text/plain": [
              "<Figure size 432x288 with 1 Axes>"
            ]
          },
          "metadata": {
            "tags": [],
            "needs_background": "light"
          }
        }
      ]
    },
    {
      "cell_type": "code",
      "metadata": {
        "id": "V5_CCOUYYVME"
      },
      "source": [
        ""
      ],
      "execution_count": null,
      "outputs": []
    }
  ]
}